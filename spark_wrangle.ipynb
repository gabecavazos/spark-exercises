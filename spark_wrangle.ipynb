{
 "cells": [
  {
   "cell_type": "markdown",
   "id": "ea3879fa",
   "metadata": {},
   "source": [
    "# Spark Data Wrangling"
   ]
  },
  {
   "cell_type": "code",
   "execution_count": 2,
   "id": "693fba94",
   "metadata": {},
   "outputs": [],
   "source": [
    "import pandas as pd\n",
    "\n",
    "from pyspark.sql import SparkSession\n",
    "from pyspark.sql.functions import * "
   ]
  },
  {
   "cell_type": "code",
   "execution_count": 3,
   "id": "08499f89",
   "metadata": {},
   "outputs": [],
   "source": [
    "def get_db_url(db):\n",
    "    '''input df and output sql connection string'''\n",
    "    return (f'mysql+pymysql://{user}:{password}@{host}/{db}')"
   ]
  },
  {
   "cell_type": "markdown",
   "id": "8f66c455",
   "metadata": {},
   "source": [
    "## Acquire"
   ]
  },
  {
   "cell_type": "code",
   "execution_count": 4,
   "id": "755438f6",
   "metadata": {},
   "outputs": [
    {
     "data": {
      "text/html": [
       "\n",
       "            <div>\n",
       "                <p><b>SparkSession - in-memory</b></p>\n",
       "                \n",
       "        <div>\n",
       "            <p><b>SparkContext</b></p>\n",
       "\n",
       "            <p><a href=\"http://Laptop:4040\">Spark UI</a></p>\n",
       "\n",
       "            <dl>\n",
       "              <dt>Version</dt>\n",
       "                <dd><code>v3.4.0</code></dd>\n",
       "              <dt>Master</dt>\n",
       "                <dd><code>local[*]</code></dd>\n",
       "              <dt>AppName</dt>\n",
       "                <dd><code>pyspark-shell</code></dd>\n",
       "            </dl>\n",
       "        </div>\n",
       "        \n",
       "            </div>\n",
       "        "
      ],
      "text/plain": [
       "<pyspark.sql.session.SparkSession at 0x18a1402a7f0>"
      ]
     },
     "execution_count": 4,
     "metadata": {},
     "output_type": "execute_result"
    }
   ],
   "source": [
    "#create enviroment\n",
    "spark = SparkSession.builder.getOrCreate()\n",
    "spark"
   ]
  },
  {
   "cell_type": "markdown",
   "id": "5ae2fc66",
   "metadata": {},
   "source": [
    "### load mpg data set from pydataset"
   ]
  },
  {
   "cell_type": "code",
   "execution_count": 5,
   "id": "551e9942",
   "metadata": {},
   "outputs": [],
   "source": [
    "from pydataset import data"
   ]
  },
  {
   "cell_type": "code",
   "execution_count": 6,
   "id": "c9e58c68",
   "metadata": {},
   "outputs": [
    {
     "data": {
      "text/plain": [
       "DataFrame[manufacturer: string, model: string, displ: double, year: bigint, cyl: bigint, trans: string, drv: string, cty: bigint, hwy: bigint, fl: string, class: string]"
      ]
     },
     "execution_count": 6,
     "metadata": {},
     "output_type": "execute_result"
    }
   ],
   "source": [
    "mpg = spark.createDataFrame(data('mpg'))\n",
    "mpg"
   ]
  },
  {
   "cell_type": "code",
   "execution_count": 7,
   "id": "83c87000",
   "metadata": {},
   "outputs": [
    {
     "name": "stdout",
     "output_type": "stream",
     "text": [
      "+------------+-----+-----+----+---+----------+---+---+---+---+-------+\n",
      "|manufacturer|model|displ|year|cyl|     trans|drv|cty|hwy| fl|  class|\n",
      "+------------+-----+-----+----+---+----------+---+---+---+---+-------+\n",
      "|        audi|   a4|  1.8|1999|  4|  auto(l5)|  f| 18| 29|  p|compact|\n",
      "|        audi|   a4|  1.8|1999|  4|manual(m5)|  f| 21| 29|  p|compact|\n",
      "|        audi|   a4|  2.0|2008|  4|manual(m6)|  f| 20| 31|  p|compact|\n",
      "|        audi|   a4|  2.0|2008|  4|  auto(av)|  f| 21| 30|  p|compact|\n",
      "|        audi|   a4|  2.8|1999|  6|  auto(l5)|  f| 16| 26|  p|compact|\n",
      "+------------+-----+-----+----+---+----------+---+---+---+---+-------+\n",
      "only showing top 5 rows\n",
      "\n"
     ]
    }
   ],
   "source": [
    "mpg.show(5)"
   ]
  },
  {
   "cell_type": "markdown",
   "id": "b6b59db6",
   "metadata": {},
   "source": [
    "### write datafame to file"
   ]
  },
  {
   "cell_type": "markdown",
   "id": "30572adc",
   "metadata": {},
   "source": [
    "- `json`: for writing to a local json file(s)\n",
    "- `csv`: for writing to a local csv file(s)\n",
    "- `parquet`: Parquet is a very popular columnar storage format for Hadoop.\n",
    "- `jdbc`: for writing to a SQL database table"
   ]
  },
  {
   "cell_type": "markdown",
   "id": "74e8bbb4",
   "metadata": {},
   "source": [
    "#### write file to json"
   ]
  },
  {
   "cell_type": "code",
   "execution_count": null,
   "id": "d8d07a63",
   "metadata": {},
   "outputs": [],
   "source": [
    "#df.write.type\n",
    "mpg.write.json('data/mpg_json', mode='overwrite')"
   ]
  },
  {
   "cell_type": "code",
   "execution_count": 10,
   "id": "382a7605-e3c5-4ac8-b44d-14302f06d445",
   "metadata": {},
   "outputs": [],
   "source": [
    "import os"
   ]
  },
  {
   "cell_type": "markdown",
   "id": "bf08c75f",
   "metadata": {},
   "source": [
    "#### write dataframe to csv"
   ]
  },
  {
   "cell_type": "code",
   "execution_count": null,
   "id": "21463422",
   "metadata": {},
   "outputs": [],
   "source": [
    "#df.write.format()\n",
    "(\n",
    "mpg.write.format('csv')\n",
    "    .mode('overwrite')\n",
    "    .option('header', 'True')\n",
    "    .save\n",
    "\n",
    ")"
   ]
  },
  {
   "cell_type": "markdown",
   "id": "6b2b6a58",
   "metadata": {},
   "source": [
    "### read files\n",
    "- spark.read.[type]"
   ]
  },
  {
   "cell_type": "markdown",
   "id": "c057159b",
   "metadata": {},
   "source": [
    "#### read json"
   ]
  },
  {
   "cell_type": "markdown",
   "id": "e380e06a",
   "metadata": {},
   "source": [
    "#### read csv"
   ]
  },
  {
   "cell_type": "code",
   "execution_count": null,
   "id": "e36ea678",
   "metadata": {},
   "outputs": [],
   "source": [
    "#keep written csv headers\n",
    "(\n",
    "    spark.read.format(\"csv\")\n",
    "      .option(\"header\", True)\n",
    "      .load(\"data/mpg_csv\")\n",
    ").count()"
   ]
  },
  {
   "cell_type": "code",
   "execution_count": null,
   "id": "df69b4b5",
   "metadata": {},
   "outputs": [],
   "source": []
  },
  {
   "cell_type": "markdown",
   "id": "c839b2a6",
   "metadata": {},
   "source": [
    "### load source from 311_data in sql"
   ]
  },
  {
   "cell_type": "code",
   "execution_count": null,
   "id": "d3abd192",
   "metadata": {},
   "outputs": [],
   "source": [
    "#sql query\n",
    "#url = get_db_url('311_data')\n",
    "#query = 'select source_id, source_username from source'"
   ]
  },
  {
   "cell_type": "code",
   "execution_count": 12,
   "id": "017046b4",
   "metadata": {},
   "outputs": [
    {
     "data": {
      "text/html": [
       "<div>\n",
       "<style scoped>\n",
       "    .dataframe tbody tr th:only-of-type {\n",
       "        vertical-align: middle;\n",
       "    }\n",
       "\n",
       "    .dataframe tbody tr th {\n",
       "        vertical-align: top;\n",
       "    }\n",
       "\n",
       "    .dataframe thead th {\n",
       "        text-align: right;\n",
       "    }\n",
       "</style>\n",
       "<table border=\"1\" class=\"dataframe\">\n",
       "  <thead>\n",
       "    <tr style=\"text-align: right;\">\n",
       "      <th></th>\n",
       "      <th>case_id</th>\n",
       "      <th>case_opened_date</th>\n",
       "      <th>case_closed_date</th>\n",
       "      <th>SLA_due_date</th>\n",
       "      <th>case_late</th>\n",
       "      <th>num_days_late</th>\n",
       "      <th>case_closed</th>\n",
       "      <th>dept_division</th>\n",
       "      <th>service_request_type</th>\n",
       "      <th>SLA_days</th>\n",
       "      <th>case_status</th>\n",
       "      <th>source_id</th>\n",
       "      <th>request_address</th>\n",
       "      <th>council_district</th>\n",
       "    </tr>\n",
       "  </thead>\n",
       "  <tbody>\n",
       "    <tr>\n",
       "      <th>0</th>\n",
       "      <td>1014127332</td>\n",
       "      <td>1/1/18 0:42</td>\n",
       "      <td>1/1/18 12:29</td>\n",
       "      <td>9/26/20 0:42</td>\n",
       "      <td>NO</td>\n",
       "      <td>-998.508762</td>\n",
       "      <td>YES</td>\n",
       "      <td>Field Operations</td>\n",
       "      <td>Stray Animal</td>\n",
       "      <td>999.000000</td>\n",
       "      <td>Closed</td>\n",
       "      <td>svcCRMLS</td>\n",
       "      <td>2315  EL PASO ST, San Antonio, 78207</td>\n",
       "      <td>5</td>\n",
       "    </tr>\n",
       "    <tr>\n",
       "      <th>1</th>\n",
       "      <td>1014127333</td>\n",
       "      <td>1/1/18 0:46</td>\n",
       "      <td>1/3/18 8:11</td>\n",
       "      <td>1/5/18 8:30</td>\n",
       "      <td>NO</td>\n",
       "      <td>-2.012604</td>\n",
       "      <td>YES</td>\n",
       "      <td>Storm Water</td>\n",
       "      <td>Removal Of Obstruction</td>\n",
       "      <td>4.322222</td>\n",
       "      <td>Closed</td>\n",
       "      <td>svcCRMSS</td>\n",
       "      <td>2215  GOLIAD RD, San Antonio, 78223</td>\n",
       "      <td>3</td>\n",
       "    </tr>\n",
       "    <tr>\n",
       "      <th>2</th>\n",
       "      <td>1014127334</td>\n",
       "      <td>1/1/18 0:48</td>\n",
       "      <td>1/2/18 7:57</td>\n",
       "      <td>1/5/18 8:30</td>\n",
       "      <td>NO</td>\n",
       "      <td>-3.022338</td>\n",
       "      <td>YES</td>\n",
       "      <td>Storm Water</td>\n",
       "      <td>Removal Of Obstruction</td>\n",
       "      <td>4.320729</td>\n",
       "      <td>Closed</td>\n",
       "      <td>svcCRMSS</td>\n",
       "      <td>102  PALFREY ST W, San Antonio, 78223</td>\n",
       "      <td>3</td>\n",
       "    </tr>\n",
       "    <tr>\n",
       "      <th>3</th>\n",
       "      <td>1014127335</td>\n",
       "      <td>1/1/18 1:29</td>\n",
       "      <td>1/2/18 8:13</td>\n",
       "      <td>1/17/18 8:30</td>\n",
       "      <td>NO</td>\n",
       "      <td>-15.011481</td>\n",
       "      <td>YES</td>\n",
       "      <td>Code Enforcement</td>\n",
       "      <td>Front Or Side Yard Parking</td>\n",
       "      <td>16.291887</td>\n",
       "      <td>Closed</td>\n",
       "      <td>svcCRMSS</td>\n",
       "      <td>114  LA GARDE ST, San Antonio, 78223</td>\n",
       "      <td>3</td>\n",
       "    </tr>\n",
       "    <tr>\n",
       "      <th>4</th>\n",
       "      <td>1014127336</td>\n",
       "      <td>1/1/18 1:34</td>\n",
       "      <td>1/1/18 13:29</td>\n",
       "      <td>1/1/18 4:34</td>\n",
       "      <td>YES</td>\n",
       "      <td>0.372164</td>\n",
       "      <td>YES</td>\n",
       "      <td>Field Operations</td>\n",
       "      <td>Animal Cruelty(Critical)</td>\n",
       "      <td>0.125000</td>\n",
       "      <td>Closed</td>\n",
       "      <td>svcCRMSS</td>\n",
       "      <td>734  CLEARVIEW DR, San Antonio, 78228</td>\n",
       "      <td>7</td>\n",
       "    </tr>\n",
       "  </tbody>\n",
       "</table>\n",
       "</div>"
      ],
      "text/plain": [
       "      case_id case_opened_date case_closed_date  SLA_due_date case_late   \n",
       "0  1014127332      1/1/18 0:42     1/1/18 12:29  9/26/20 0:42        NO  \\\n",
       "1  1014127333      1/1/18 0:46      1/3/18 8:11   1/5/18 8:30        NO   \n",
       "2  1014127334      1/1/18 0:48      1/2/18 7:57   1/5/18 8:30        NO   \n",
       "3  1014127335      1/1/18 1:29      1/2/18 8:13  1/17/18 8:30        NO   \n",
       "4  1014127336      1/1/18 1:34     1/1/18 13:29   1/1/18 4:34       YES   \n",
       "\n",
       "   num_days_late case_closed     dept_division        service_request_type   \n",
       "0    -998.508762         YES  Field Operations                Stray Animal  \\\n",
       "1      -2.012604         YES       Storm Water      Removal Of Obstruction   \n",
       "2      -3.022338         YES       Storm Water      Removal Of Obstruction   \n",
       "3     -15.011481         YES  Code Enforcement  Front Or Side Yard Parking   \n",
       "4       0.372164         YES  Field Operations    Animal Cruelty(Critical)   \n",
       "\n",
       "     SLA_days case_status source_id                        request_address   \n",
       "0  999.000000      Closed  svcCRMLS   2315  EL PASO ST, San Antonio, 78207  \\\n",
       "1    4.322222      Closed  svcCRMSS    2215  GOLIAD RD, San Antonio, 78223   \n",
       "2    4.320729      Closed  svcCRMSS  102  PALFREY ST W, San Antonio, 78223   \n",
       "3   16.291887      Closed  svcCRMSS   114  LA GARDE ST, San Antonio, 78223   \n",
       "4    0.125000      Closed  svcCRMSS  734  CLEARVIEW DR, San Antonio, 78228   \n",
       "\n",
       "   council_district  \n",
       "0                 5  \n",
       "1                 3  \n",
       "2                 3  \n",
       "3                 3  \n",
       "4                 7  "
      ]
     },
     "execution_count": 12,
     "metadata": {},
     "output_type": "execute_result"
    }
   ],
   "source": [
    "#make pandas df\n",
    "#pandas_df = pd.read_sql(query, url)\n",
    "pandas_df = pd.read_csv('311.csv')\n",
    "pandas_df.head()"
   ]
  },
  {
   "cell_type": "code",
   "execution_count": 13,
   "id": "840a92c4-0827-4ce6-be5a-7166804dd651",
   "metadata": {},
   "outputs": [],
   "source": [
    "sources = spark.createDataFrame(pandas_df)"
   ]
  },
  {
   "cell_type": "code",
   "execution_count": 14,
   "id": "6fd5872b-9d14-4fb7-a852-b663190835db",
   "metadata": {},
   "outputs": [
    {
     "name": "stdout",
     "output_type": "stream",
     "text": [
      "root\n",
      " |-- case_id: long (nullable = true)\n",
      " |-- case_opened_date: string (nullable = true)\n",
      " |-- case_closed_date: string (nullable = true)\n",
      " |-- SLA_due_date: string (nullable = true)\n",
      " |-- case_late: string (nullable = true)\n",
      " |-- num_days_late: double (nullable = true)\n",
      " |-- case_closed: string (nullable = true)\n",
      " |-- dept_division: string (nullable = true)\n",
      " |-- service_request_type: string (nullable = true)\n",
      " |-- SLA_days: double (nullable = true)\n",
      " |-- case_status: string (nullable = true)\n",
      " |-- source_id: string (nullable = true)\n",
      " |-- request_address: string (nullable = true)\n",
      " |-- council_district: long (nullable = true)\n",
      "\n"
     ]
    }
   ],
   "source": [
    "sources.printSchema()"
   ]
  },
  {
   "cell_type": "markdown",
   "id": "5769739f",
   "metadata": {},
   "source": [
    "### load cases from 311_data from sql"
   ]
  },
  {
   "cell_type": "code",
   "execution_count": null,
   "id": "54618aed",
   "metadata": {},
   "outputs": [],
   "source": [
    "#sql query\n",
    "db = '311_data'\n",
    "query = 'select * from cases limit 100000'"
   ]
  },
  {
   "cell_type": "code",
   "execution_count": null,
   "id": "77ee891f",
   "metadata": {},
   "outputs": [],
   "source": [
    "#pandas df\n",
    "# pandas_df = pd.read_sql(query, url)"
   ]
  },
  {
   "cell_type": "code",
   "execution_count": 15,
   "id": "cbb9b4e0",
   "metadata": {},
   "outputs": [
    {
     "data": {
      "text/plain": [
       "DataFrame[case_id: bigint, case_opened_date: string, case_closed_date: string, SLA_due_date: string, case_late: string, num_days_late: double, case_closed: string, dept_division: string, service_request_type: string, SLA_days: double, case_status: string, source_id: string, request_address: string, council_district: bigint]"
      ]
     },
     "execution_count": 15,
     "metadata": {},
     "output_type": "execute_result"
    }
   ],
   "source": [
    "#spark df\n",
    "df = spark.createDataFrame(pandas_df)\n",
    "df"
   ]
  },
  {
   "cell_type": "code",
   "execution_count": 16,
   "id": "47c4e583",
   "metadata": {},
   "outputs": [
    {
     "name": "stdout",
     "output_type": "stream",
     "text": [
      "-RECORD 0-----------------------------------------------------\n",
      " case_id              | 1014127332                            \n",
      " case_opened_date     | 1/1/18 0:42                           \n",
      " case_closed_date     | 1/1/18 12:29                          \n",
      " SLA_due_date         | 9/26/20 0:42                          \n",
      " case_late            | NO                                    \n",
      " num_days_late        | -998.5087616                          \n",
      " case_closed          | YES                                   \n",
      " dept_division        | Field Operations                      \n",
      " service_request_type | Stray Animal                          \n",
      " SLA_days             | 999.0                                 \n",
      " case_status          | Closed                                \n",
      " source_id            | svcCRMLS                              \n",
      " request_address      | 2315  EL PASO ST, San Antonio, 78207  \n",
      " council_district     | 5                                     \n",
      "-RECORD 1-----------------------------------------------------\n",
      " case_id              | 1014127333                            \n",
      " case_opened_date     | 1/1/18 0:46                           \n",
      " case_closed_date     | 1/3/18 8:11                           \n",
      " SLA_due_date         | 1/5/18 8:30                           \n",
      " case_late            | NO                                    \n",
      " num_days_late        | -2.012604167                          \n",
      " case_closed          | YES                                   \n",
      " dept_division        | Storm Water                           \n",
      " service_request_type | Removal Of Obstruction                \n",
      " SLA_days             | 4.322222222                           \n",
      " case_status          | Closed                                \n",
      " source_id            | svcCRMSS                              \n",
      " request_address      | 2215  GOLIAD RD, San Antonio, 78223   \n",
      " council_district     | 3                                     \n",
      "-RECORD 2-----------------------------------------------------\n",
      " case_id              | 1014127334                            \n",
      " case_opened_date     | 1/1/18 0:48                           \n",
      " case_closed_date     | 1/2/18 7:57                           \n",
      " SLA_due_date         | 1/5/18 8:30                           \n",
      " case_late            | NO                                    \n",
      " num_days_late        | -3.022337963                          \n",
      " case_closed          | YES                                   \n",
      " dept_division        | Storm Water                           \n",
      " service_request_type | Removal Of Obstruction                \n",
      " SLA_days             | 4.320729167                           \n",
      " case_status          | Closed                                \n",
      " source_id            | svcCRMSS                              \n",
      " request_address      | 102  PALFREY ST W, San Antonio, 78223 \n",
      " council_district     | 3                                     \n",
      "only showing top 3 rows\n",
      "\n"
     ]
    }
   ],
   "source": [
    "df.show(3, vertical=True, truncate=False)"
   ]
  },
  {
   "cell_type": "markdown",
   "id": "9df26f2f",
   "metadata": {},
   "source": [
    "## Prepare"
   ]
  },
  {
   "cell_type": "markdown",
   "id": "44c3f40e",
   "metadata": {},
   "source": [
    "- rename columns\n",
    "- correct datatypes\n",
    "- data transformation\n",
    "- make new features\n",
    "- join tables"
   ]
  },
  {
   "cell_type": "markdown",
   "id": "a0aec4fe",
   "metadata": {
    "tags": []
   },
   "source": [
    "### rename columns"
   ]
  },
  {
   "cell_type": "markdown",
   "id": "0a5929b1",
   "metadata": {
    "tags": []
   },
   "source": [
    "#### change SLA_due_date to case_due_date"
   ]
  },
  {
   "cell_type": "code",
   "execution_count": 17,
   "id": "08df7c0b-d780-471a-be0f-1781ad8d13a2",
   "metadata": {},
   "outputs": [
    {
     "name": "stdout",
     "output_type": "stream",
     "text": [
      "-RECORD 0------------------------------------\n",
      " case_id              | 1014127332           \n",
      " case_opened_date     | 1/1/18 0:42          \n",
      " case_closed_date     | 1/1/18 12:29         \n",
      " case_due_date        | 9/26/20 0:42         \n",
      " case_late            | NO                   \n",
      " num_days_late        | -998.5087616         \n",
      " case_closed          | YES                  \n",
      " dept_division        | Field Operations     \n",
      " service_request_type | Stray Animal         \n",
      " SLA_days             | 999.0                \n",
      " case_status          | Closed               \n",
      " source_id            | svcCRMLS             \n",
      " request_address      | 2315  EL PASO ST,... \n",
      " council_district     | 5                    \n",
      "only showing top 1 row\n",
      "\n"
     ]
    }
   ],
   "source": [
    "df.withColumnRenamed('SLA_due_date','case_due_date').show(1,vertical=True)"
   ]
  },
  {
   "cell_type": "markdown",
   "id": "a98297cf",
   "metadata": {
    "tags": []
   },
   "source": [
    "### correct datatypes"
   ]
  },
  {
   "cell_type": "markdown",
   "id": "50584b86",
   "metadata": {},
   "source": [
    "#### change close_closed and case_late columns into boolean values"
   ]
  },
  {
   "cell_type": "code",
   "execution_count": 18,
   "id": "66b0b1fa",
   "metadata": {},
   "outputs": [
    {
     "name": "stdout",
     "output_type": "stream",
     "text": [
      "+-----------+---------+\n",
      "|case_closed|case_late|\n",
      "+-----------+---------+\n",
      "|        YES|       NO|\n",
      "+-----------+---------+\n",
      "only showing top 1 row\n",
      "\n"
     ]
    }
   ],
   "source": [
    "#use condition to make true and false\n",
    "df.select('case_closed','case_late').show(1)"
   ]
  },
  {
   "cell_type": "code",
   "execution_count": 20,
   "id": "7295a844-c08e-4a0f-a2e5-d3950fb4fa0b",
   "metadata": {},
   "outputs": [
    {
     "name": "stdout",
     "output_type": "stream",
     "text": [
      "+-----------+-----+\n",
      "|case_closed|count|\n",
      "+-----------+-----+\n",
      "|        YES|98547|\n",
      "|         NO| 1453|\n",
      "+-----------+-----+\n",
      "\n"
     ]
    }
   ],
   "source": [
    "df.groupby('case_closed').count().show()"
   ]
  },
  {
   "cell_type": "code",
   "execution_count": 19,
   "id": "de927d2c-77c4-4e7a-a582-6e1fc0080a95",
   "metadata": {},
   "outputs": [
    {
     "name": "stdout",
     "output_type": "stream",
     "text": [
      "+-----------+\n",
      "|case_closed|\n",
      "+-----------+\n",
      "|        YES|\n",
      "|         NO|\n",
      "+-----------+\n",
      "\n"
     ]
    }
   ],
   "source": [
    "df.select('case_closed').distinct().show()"
   ]
  },
  {
   "cell_type": "code",
   "execution_count": 22,
   "id": "3049676d-9fbb-4bb4-b5e0-8e13d7db87d1",
   "metadata": {},
   "outputs": [],
   "source": [
    "from pyspark.sql import functions as F"
   ]
  },
  {
   "cell_type": "code",
   "execution_count": 24,
   "id": "f55feac7-35fe-464a-9cb4-2f258e9f47ed",
   "metadata": {},
   "outputs": [
    {
     "name": "stdout",
     "output_type": "stream",
     "text": [
      "+-----------+\n",
      "|case_closed|\n",
      "+-----------+\n",
      "|       true|\n",
      "+-----------+\n",
      "only showing top 1 row\n",
      "\n"
     ]
    }
   ],
   "source": [
    "#use condition to make true and false\n",
    "df.withColumn(\n",
    "    'case_closed',\n",
    "    df.case_closed == 'YES'\n",
    "    #F.expr('case_closed == \"YES\"')\n",
    ").withColumn(\n",
    ")\n",
    "\n",
    "\n",
    ".select('case_closed').show(1)"
   ]
  },
  {
   "cell_type": "markdown",
   "id": "3c65df82",
   "metadata": {},
   "source": [
    "#### change council_district datatype to string"
   ]
  },
  {
   "cell_type": "code",
   "execution_count": null,
   "id": "9655ab9c",
   "metadata": {},
   "outputs": [],
   "source": [
    "#use .cast()\n",
    "df.withColumn('council_district',\n",
    "             F.col)"
   ]
  },
  {
   "cell_type": "markdown",
   "id": "e7d21ecb",
   "metadata": {},
   "source": [
    "#### change dates to datetype"
   ]
  },
  {
   "cell_type": "markdown",
   "id": "91d94432",
   "metadata": {},
   "source": [
    "format date strings: https://docs.oracle.com/javase/10/docs/api/java/time/format/DateTimeFormatter.html"
   ]
  },
  {
   "cell_type": "code",
   "execution_count": null,
   "id": "8093fa25",
   "metadata": {},
   "outputs": [],
   "source": [
    "#use to_timestamp\n",
    "df.select('case_opened_date',\n",
    "          'case_closed_date')\n",
    "    F.to_timestamp('case_opened_date'),\n",
    "    F.to_timestamp('case_closed_date')"
   ]
  },
  {
   "cell_type": "code",
   "execution_count": null,
   "id": "8e7b4f96-3f18-46a9-9598-f8c6e8ba3e8a",
   "metadata": {},
   "outputs": [],
   "source": []
  },
  {
   "cell_type": "markdown",
   "id": "4cbca0fd",
   "metadata": {},
   "source": [
    "### data transformation"
   ]
  },
  {
   "cell_type": "markdown",
   "id": "86cd01a0",
   "metadata": {},
   "source": [
    "#### normalize address\n",
    "- `lower`: lowercase everything\n",
    "- `trim`: remove whitespace on the edges "
   ]
  },
  {
   "cell_type": "markdown",
   "id": "d56bd761",
   "metadata": {},
   "source": [
    "#### change num_days_late to num_weeks_late"
   ]
  },
  {
   "cell_type": "markdown",
   "id": "201bc28f",
   "metadata": {},
   "source": [
    "#### change council_district to int and pad with 00s"
   ]
  },
  {
   "cell_type": "markdown",
   "id": "37ecc429",
   "metadata": {},
   "source": [
    "### new features"
   ]
  },
  {
   "cell_type": "markdown",
   "id": "7059b9f5",
   "metadata": {},
   "source": [
    "#### create zip code column"
   ]
  },
  {
   "cell_type": "markdown",
   "id": "e16b302f",
   "metadata": {},
   "source": [
    "#### create case_lifetime column"
   ]
  },
  {
   "cell_type": "markdown",
   "id": "29d43cc6",
   "metadata": {},
   "source": [
    "- case_age: how long since the case first opened\n",
    "- days_to_close: the number of days between days opened and days closed\n",
    "- case_lifetime: if the case is open, how long since the case opened, if the case is closed, the number of days to close\n"
   ]
  },
  {
   "cell_type": "code",
   "execution_count": null,
   "id": "87f3203e",
   "metadata": {},
   "outputs": [],
   "source": [
    "#use datediff() to find the difference between two dates\n"
   ]
  },
  {
   "cell_type": "code",
   "execution_count": null,
   "id": "732677de",
   "metadata": {},
   "outputs": [],
   "source": [
    "#create case_lifetime column\n"
   ]
  },
  {
   "cell_type": "code",
   "execution_count": null,
   "id": "7b6bde5f",
   "metadata": {},
   "outputs": [],
   "source": []
  },
  {
   "cell_type": "code",
   "execution_count": null,
   "id": "ebaeef4e",
   "metadata": {},
   "outputs": [],
   "source": []
  },
  {
   "cell_type": "code",
   "execution_count": null,
   "id": "22524bf3",
   "metadata": {},
   "outputs": [],
   "source": [
    "#drop unnecessary columns\n"
   ]
  },
  {
   "cell_type": "code",
   "execution_count": null,
   "id": "9cb016e2",
   "metadata": {},
   "outputs": [],
   "source": []
  },
  {
   "cell_type": "markdown",
   "id": "638518f0",
   "metadata": {},
   "source": [
    "### join the dept table from sql to our current df"
   ]
  },
  {
   "cell_type": "code",
   "execution_count": null,
   "id": "83bb0fe8",
   "metadata": {},
   "outputs": [],
   "source": [
    "df.select('dept_division').show(5)"
   ]
  },
  {
   "cell_type": "code",
   "execution_count": null,
   "id": "59b24e71-2825-464b-b54a-a3c03499904c",
   "metadata": {},
   "outputs": [],
   "source": [
    "#get dept table from sql\n",
    "query = 'select * from dept'"
   ]
  },
  {
   "cell_type": "code",
   "execution_count": null,
   "id": "62a11688-7ce9-483d-8493-db724a883c4d",
   "metadata": {},
   "outputs": [],
   "source": [
    "url = get_db_url('311_data')\n",
    "dept = pd.read_sql(query, url)"
   ]
  },
  {
   "cell_type": "code",
   "execution_count": null,
   "id": "d0aa1ab1-4bda-4274-ad06-f7d5a755a414",
   "metadata": {},
   "outputs": [],
   "source": [
    "dept = spark.createDataFrame(dept)\n",
    "dept"
   ]
  },
  {
   "cell_type": "markdown",
   "id": "f904326a",
   "metadata": {},
   "source": [
    "### train, validate, test split"
   ]
  },
  {
   "cell_type": "markdown",
   "id": "f8f04c04",
   "metadata": {},
   "source": [
    "- `.randomSplit` to split df"
   ]
  },
  {
   "cell_type": "code",
   "execution_count": null,
   "id": "f4f08570",
   "metadata": {},
   "outputs": [],
   "source": []
  }
 ],
 "metadata": {
  "kernelspec": {
   "display_name": "Python 3 (ipykernel)",
   "language": "python",
   "name": "python3"
  },
  "language_info": {
   "codemirror_mode": {
    "name": "ipython",
    "version": 3
   },
   "file_extension": ".py",
   "mimetype": "text/x-python",
   "name": "python",
   "nbconvert_exporter": "python",
   "pygments_lexer": "ipython3",
   "version": "3.9.13"
  }
 },
 "nbformat": 4,
 "nbformat_minor": 5
}
