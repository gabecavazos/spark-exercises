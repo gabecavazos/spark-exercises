{
 "cells": [
  {
   "cell_type": "code",
   "execution_count": 1,
   "id": "4e2721f3-97bc-4d08-a818-701b8dba717b",
   "metadata": {},
   "outputs": [],
   "source": [
    "import pyspark\n",
    "import pandas as pd\n",
    "import numpy as np\n",
    "from pyspark.sql import functions as F\n",
    "from pydataset import data"
   ]
  },
  {
   "cell_type": "code",
   "execution_count": 2,
   "id": "be8946ab-27d2-442f-adf9-29e1cfffb773",
   "metadata": {},
   "outputs": [
    {
     "name": "stdout",
     "output_type": "stream",
     "text": [
      "                Languages  First Appeared\n",
      "0                  Python            1991\n",
      "1                    Java            1995\n",
      "2              JavaScript            1995\n",
      "3                       C            1972\n",
      "4                     C++            1985\n",
      "5                      C#            2000\n",
      "6                       R            1993\n",
      "7                      Go            2007\n",
      "8                   Swift            2014\n",
      "9                     PHP            1995\n",
      "10                   Ruby            1995\n",
      "11                 Kotlin            2011\n",
      "12             TypeScript            2012\n",
      "13                  Scala            2003\n",
      "14                   Rust            2010\n",
      "15                    Lua            1993\n",
      "16                   Perl            1987\n",
      "17                    SQL            1974\n",
      "18  Bash/Shell/PowerShell            1989\n",
      "19                 Matlab            1984\n"
     ]
    }
   ],
   "source": [
    "# Define the data\n",
    "data = {\n",
    "    'Languages': [\n",
    "        'Python',\n",
    "        'Java',\n",
    "        'JavaScript',\n",
    "        'C',\n",
    "        'C++',\n",
    "        'C#',\n",
    "        'R',\n",
    "        'Go',\n",
    "        'Swift',\n",
    "        'PHP',\n",
    "        'Ruby',\n",
    "        'Kotlin',\n",
    "        'TypeScript',\n",
    "        'Scala',\n",
    "        'Rust',\n",
    "        'Lua',\n",
    "        'Perl',\n",
    "        'SQL',\n",
    "        'Bash/Shell/PowerShell',\n",
    "        'Matlab',\n",
    "    ],\n",
    "    'First Appeared': [\n",
    "        1991,\n",
    "        1995,\n",
    "        1995,\n",
    "        1972,\n",
    "        1985,\n",
    "        2000,\n",
    "        1993,\n",
    "        2007,\n",
    "        2014,\n",
    "        1995,\n",
    "        1995,\n",
    "        2011,\n",
    "        2012,\n",
    "        2003,\n",
    "        2010,\n",
    "        1993,\n",
    "        1987,\n",
    "        1974,\n",
    "        1989,\n",
    "        1984,\n",
    "    ],\n",
    "}\n",
    "\n",
    "# Create the DataFrame\n",
    "df = pd.DataFrame(data)\n",
    "\n",
    "# Display the DataFrame\n",
    "print(df)"
   ]
  },
  {
   "cell_type": "markdown",
   "id": "e4c92ea4-b2a1-4e15-b6d2-090d3bf72058",
   "metadata": {},
   "source": [
    "Create a spark data frame that contains your favorite programming languages.\n",
    "\n",
    "- The name of the column should be language"
   ]
  },
  {
   "cell_type": "code",
   "execution_count": 3,
   "id": "db75e620-6213-42ca-b27f-489cfa5b9e3d",
   "metadata": {},
   "outputs": [
    {
     "name": "stderr",
     "output_type": "stream",
     "text": [
      "23/05/22 12:09:44 WARN Utils: Your hostname, Gabriels-iMac.local resolves to a loopback address: 127.0.0.1; using 172.20.10.10 instead (on interface en1)\n",
      "23/05/22 12:09:44 WARN Utils: Set SPARK_LOCAL_IP if you need to bind to another address\n",
      "Setting default log level to \"WARN\".\n",
      "To adjust logging level use sc.setLogLevel(newLevel). For SparkR, use setLogLevel(newLevel).\n",
      "23/05/22 12:09:45 WARN NativeCodeLoader: Unable to load native-hadoop library for your platform... using builtin-java classes where applicable\n",
      "23/05/22 12:09:46 WARN Utils: Service 'SparkUI' could not bind on port 4040. Attempting port 4041.\n"
     ]
    }
   ],
   "source": [
    "#  initialize a session\n",
    "spark = pyspark.sql.SparkSession.builder.getOrCreate()"
   ]
  },
  {
   "cell_type": "code",
   "execution_count": 4,
   "id": "64bf0dde-4802-4f1e-81a7-0b69e13baa1f",
   "metadata": {},
   "outputs": [],
   "source": [
    "# using the spark session, turn our tabular data into a spark df\n",
    "langs = spark.createDataFrame(df)"
   ]
  },
  {
   "cell_type": "code",
   "execution_count": 5,
   "id": "0f33485d-fe78-4691-af28-abe868ed3518",
   "metadata": {},
   "outputs": [],
   "source": [
    "langs = langs.withColumnRenamed('languages', 'language')"
   ]
  },
  {
   "cell_type": "markdown",
   "id": "bd7f0530-6623-4983-bc84-46654e2f64b4",
   "metadata": {},
   "source": [
    "- View the schema of the dataframe"
   ]
  },
  {
   "cell_type": "code",
   "execution_count": 6,
   "id": "364710fb-d1c5-4656-9387-0d76e24cc5ff",
   "metadata": {},
   "outputs": [
    {
     "name": "stdout",
     "output_type": "stream",
     "text": [
      "root\n",
      " |-- language: string (nullable = true)\n",
      " |-- First Appeared: long (nullable = true)\n",
      "\n"
     ]
    }
   ],
   "source": [
    "langs.printSchema()"
   ]
  },
  {
   "cell_type": "markdown",
   "id": "2e57cfb0-878b-4482-9890-36242a0f6d37",
   "metadata": {},
   "source": [
    "- Output the shape of the dataframe"
   ]
  },
  {
   "cell_type": "code",
   "execution_count": 7,
   "id": "867fdc46-c794-4296-a8d5-bb3bf8e2fca1",
   "metadata": {},
   "outputs": [
    {
     "name": "stderr",
     "output_type": "stream",
     "text": [
      "[Stage 0:>                                                          (0 + 4) / 4]\r"
     ]
    },
    {
     "name": "stdout",
     "output_type": "stream",
     "text": [
      "20 rows, 2 columns\n"
     ]
    },
    {
     "name": "stderr",
     "output_type": "stream",
     "text": [
      "                                                                                \r"
     ]
    }
   ],
   "source": [
    "print(f'{langs.count()} rows, {len(langs.columns)} columns')"
   ]
  },
  {
   "cell_type": "markdown",
   "id": "f60566f3-e8e0-4c3c-9ec1-9a5d94e5cf56",
   "metadata": {},
   "source": [
    "- Show the first 5 records in the dataframe"
   ]
  },
  {
   "cell_type": "code",
   "execution_count": 8,
   "id": "7a1e0166-cd1f-4526-bb48-4c435ed63bc7",
   "metadata": {},
   "outputs": [
    {
     "name": "stdout",
     "output_type": "stream",
     "text": [
      "+----------+--------------+\n",
      "|  language|First Appeared|\n",
      "+----------+--------------+\n",
      "|    Python|          1991|\n",
      "|      Java|          1995|\n",
      "|JavaScript|          1995|\n",
      "|         C|          1972|\n",
      "|       C++|          1985|\n",
      "+----------+--------------+\n",
      "only showing top 5 rows\n",
      "\n"
     ]
    }
   ],
   "source": [
    "langs.show(5)"
   ]
  },
  {
   "cell_type": "markdown",
   "id": "18506e2d-4ffd-451e-bcb7-d11a12e7ae6f",
   "metadata": {},
   "source": [
    "Load the mpg dataset as a spark dataframe."
   ]
  },
  {
   "cell_type": "code",
   "execution_count": 9,
   "id": "5e801074-3eb2-4172-b931-db2f3ba0725a",
   "metadata": {},
   "outputs": [
    {
     "ename": "TypeError",
     "evalue": "'dict' object is not callable",
     "output_type": "error",
     "traceback": [
      "\u001b[0;31m---------------------------------------------------------------------------\u001b[0m",
      "\u001b[0;31mTypeError\u001b[0m                                 Traceback (most recent call last)",
      "\u001b[0;32m/var/folders/73/8c9znrxs6gv1sc4y9jvw8pvh0000gn/T/ipykernel_12501/3051213192.py\u001b[0m in \u001b[0;36m<module>\u001b[0;34m\u001b[0m\n\u001b[0;32m----> 1\u001b[0;31m \u001b[0mmpg\u001b[0m \u001b[0;34m=\u001b[0m \u001b[0mspark\u001b[0m\u001b[0;34m.\u001b[0m\u001b[0mcreateDataFrame\u001b[0m\u001b[0;34m(\u001b[0m\u001b[0mdata\u001b[0m\u001b[0;34m(\u001b[0m\u001b[0;34m'mpg'\u001b[0m\u001b[0;34m)\u001b[0m\u001b[0;34m)\u001b[0m\u001b[0;34m\u001b[0m\u001b[0;34m\u001b[0m\u001b[0m\n\u001b[0m",
      "\u001b[0;31mTypeError\u001b[0m: 'dict' object is not callable"
     ]
    }
   ],
   "source": [
    "mpg = spark.createDataFrame(data('mpg'))"
   ]
  },
  {
   "cell_type": "markdown",
   "id": "76c36974-2f0a-44f4-bb65-51a398d6c1b1",
   "metadata": {},
   "source": [
    "Create 1 column of output that contains a message like the one below:\n",
    "\n",
    "\n",
    "The 1999 audi a4 has a 4 cylinder engine.\n",
    "For each vehicle."
   ]
  },
  {
   "cell_type": "code",
   "execution_count": null,
   "id": "c059f511-d15a-494e-a9d5-a33e40f0f56b",
   "metadata": {},
   "outputs": [],
   "source": [
    "mpg.select(\n",
    "    (F.concat(\n",
    "        F.lit('The '),\n",
    "        mpg.year,\n",
    "        F.lit(' '),\n",
    "        mpg.manufacturer,\n",
    "        F.lit(' '),\n",
    "        mpg.model,\n",
    "        F.lit(' has a '),\n",
    "        mpg.cyl,\n",
    "        F.lit(' cylinder engine')\n",
    "    )).alias('statement')).show(5, truncate=False)"
   ]
  },
  {
   "cell_type": "markdown",
   "id": "76935085-dbc5-482b-9be4-cadcc9b6a1e9",
   "metadata": {},
   "source": [
    "Transform the trans column so that it only contains either manual or auto."
   ]
  },
  {
   "cell_type": "code",
   "execution_count": null,
   "id": "7cffc609-7618-45b7-a9fd-5989de263c0d",
   "metadata": {},
   "outputs": [],
   "source": [
    "mpg.select(\n",
    "    (\n",
    "        F.when(\n",
    "        mpg.trans.contains('auto'), 'auto'\n",
    "    ).otherwise('manual')\n",
    "    ).alias('trans_type')\n",
    ").show()"
   ]
  },
  {
   "cell_type": "markdown",
   "id": "f32b4c06-d4d9-4461-9a8a-f328e6441e36",
   "metadata": {},
   "source": [
    "Load the tips dataset as a spark dataframe."
   ]
  },
  {
   "cell_type": "code",
   "execution_count": null,
   "id": "56779573-7056-4210-a651-44eb57aa716d",
   "metadata": {},
   "outputs": [],
   "source": [
    "# make the variable tips,\n",
    "# use the spark session to create a tips dataframe\n",
    "# tips dataframe comes from pydataset tips function\n",
    "tips = spark.createDataFrame(data('tips'))"
   ]
  },
  {
   "cell_type": "markdown",
   "id": "bd06ca17-4cab-4906-a1f0-ced54914f063",
   "metadata": {},
   "source": [
    "- What percentage of observations are smokers?"
   ]
  },
  {
   "cell_type": "code",
   "execution_count": null,
   "id": "fa0d226f-4629-4bfb-92ed-ad3f9d2d7793",
   "metadata": {},
   "outputs": [],
   "source": [
    "tips.columns"
   ]
  },
  {
   "cell_type": "code",
   "execution_count": null,
   "id": "c8fc9177-dae1-4b18-8105-941861e59c9a",
   "metadata": {},
   "outputs": [],
   "source": [
    "tips.show(5)"
   ]
  },
  {
   "cell_type": "code",
   "execution_count": null,
   "id": "235f3abf-9b76-45a8-a231-eef4e81acc91",
   "metadata": {},
   "outputs": [],
   "source": [
    "(tips.filter(tips.smoker == 'Yes').count() / tips.count()) * 100"
   ]
  },
  {
   "cell_type": "code",
   "execution_count": null,
   "id": "a80f43bb-028a-4ad7-9ac4-90fb247ef9c9",
   "metadata": {},
   "outputs": [],
   "source": [
    "tips.groupby(tips.smoker).agg(\n",
    "    F.round((F.count('time') / tips.count()),2).alias('perc')\n",
    ").show()"
   ]
  },
  {
   "cell_type": "markdown",
   "id": "56e17e5c-673c-493d-a418-1bbc0debbd09",
   "metadata": {},
   "source": [
    "- Create a column that contains the tip percentage"
   ]
  },
  {
   "cell_type": "code",
   "execution_count": null,
   "id": "7538bcee-b3f7-4cf4-9551-90f4fa39a149",
   "metadata": {},
   "outputs": [],
   "source": [
    "tips.withColumn(\n",
    "    'tip_perc',\n",
    "    F.round((tips.tip / tips.total_bill) * 100, 2)\n",
    ").select('tip','total_bill','tip_perc').show(5)"
   ]
  },
  {
   "cell_type": "markdown",
   "id": "aabd458c-c30a-4d36-b072-8cb07d346be3",
   "metadata": {},
   "source": [
    "- Calculate the average tip percentage for each combination of sex and smoker."
   ]
  },
  {
   "cell_type": "code",
   "execution_count": null,
   "id": "62913a78-1213-4a0d-a34f-575305b8143f",
   "metadata": {},
   "outputs": [],
   "source": [
    "tips.withColumn(\n",
    "    'tip_perc',\n",
    "    F.round((tips.tip / tips.total_bill) * 100, 2)\n",
    ").groupby('sex','smoker').agg(\n",
    "    F.round(F.mean('tip_perc'), 2).alias('avg_perc')).show()"
   ]
  },
  {
   "cell_type": "code",
   "execution_count": null,
   "id": "26a7ad6f-3d59-4fe6-bd71-f94ab8086d56",
   "metadata": {},
   "outputs": [],
   "source": [
    "tips = tips.withColumn(\n",
    "    'tip_perc',\n",
    "    F.round((tips.tip / tips.total_bill) * 100, 2)\n",
    ")"
   ]
  },
  {
   "cell_type": "code",
   "execution_count": null,
   "id": "f961e6c9-8267-43c4-9385-f9b5b0bfd79f",
   "metadata": {},
   "outputs": [],
   "source": [
    "tips.withColumn(\n",
    "    'tip_perc',\n",
    "    F.round((tips.tip / tips.total_bill) * 100, 2)\n",
    ").groupby('sex').pivot('smoker').agg(\n",
    "    F.round(F.avg('tip_perc'), 2).alias('avg_perc')).show()"
   ]
  },
  {
   "cell_type": "markdown",
   "id": "ff2ce9cc-11e9-4b9d-8dc9-48265e32f8ac",
   "metadata": {},
   "source": [
    "Use the seattle weather dataset referenced in the lesson to answer the questions below."
   ]
  },
  {
   "cell_type": "code",
   "execution_count": 11,
   "id": "e2d2b160-d7f2-428f-8afe-a9e479a33909",
   "metadata": {},
   "outputs": [],
   "source": [
    "from vega_datasets import data\n",
    "weather = data.seattle_weather()\n",
    "weather = spark.createDataFrame(weather)"
   ]
  },
  {
   "cell_type": "code",
   "execution_count": 12,
   "id": "8b5b6c8b-b6bf-459c-9362-bd48ecc3c11e",
   "metadata": {},
   "outputs": [
    {
     "name": "stdout",
     "output_type": "stream",
     "text": [
      "-RECORD 0----------------------------\n",
      " date          | 2012-01-01 00:00:00 \n",
      " precipitation | 0.0                 \n",
      " temp_max      | 12.8                \n",
      " temp_min      | 5.0                 \n",
      " wind          | 4.7                 \n",
      " weather       | drizzle             \n",
      "-RECORD 1----------------------------\n",
      " date          | 2012-01-02 00:00:00 \n",
      " precipitation | 10.9                \n",
      " temp_max      | 10.6                \n",
      " temp_min      | 2.8                 \n",
      " wind          | 4.5                 \n",
      " weather       | rain                \n",
      "only showing top 2 rows\n",
      "\n"
     ]
    }
   ],
   "source": [
    "# head equivalent:\n",
    "weather.show(2, vertical=True)"
   ]
  },
  {
   "cell_type": "markdown",
   "id": "1663722f-9988-4b47-8d9b-03b65b1038d1",
   "metadata": {},
   "source": [
    "- Convert the temperatures to fahrenheit."
   ]
  },
  {
   "cell_type": "code",
   "execution_count": 13,
   "id": "edd64ec6-f200-4eeb-a2b1-67cc7c4bc337",
   "metadata": {},
   "outputs": [],
   "source": [
    "weather = weather.withColumn('temp_min', \n",
    "                   weather.temp_min * (9/5) + 32\n",
    "                  ).withColumn(\n",
    "    'temp_max', \n",
    "    weather.temp_max * (9/5) + 32\n",
    "                  )"
   ]
  },
  {
   "cell_type": "code",
   "execution_count": 14,
   "id": "1d2d2345-54fd-40e4-84ab-d711e3f2d029",
   "metadata": {},
   "outputs": [
    {
     "name": "stdout",
     "output_type": "stream",
     "text": [
      "+--------+------------------+\n",
      "|temp_min|          temp_max|\n",
      "+--------+------------------+\n",
      "|    41.0|55.040000000000006|\n",
      "|   37.04|             51.08|\n",
      "|   44.96|             53.06|\n",
      "|   42.08|             53.96|\n",
      "|   37.04|48.019999999999996|\n",
      "+--------+------------------+\n",
      "only showing top 5 rows\n",
      "\n"
     ]
    }
   ],
   "source": [
    "weather.select('temp_min', 'temp_max').show(5)"
   ]
  },
  {
   "cell_type": "markdown",
   "id": "c38424c8-9e4f-4c6c-a03c-b15f3e8027df",
   "metadata": {},
   "source": [
    "- Which month has the most rain, on average?"
   ]
  },
  {
   "cell_type": "code",
   "execution_count": 15,
   "id": "24889c00-e50d-4713-bc93-0aaf2f61bd72",
   "metadata": {},
   "outputs": [
    {
     "name": "stdout",
     "output_type": "stream",
     "text": [
      "+-----+-------------------+------------------+\n",
      "|month|        mean_precip|      total_precip|\n",
      "+-----+-------------------+------------------+\n",
      "|    9|0.22499999999999998|0.8999999999999999|\n",
      "|    7| 1.8785714285714286|              26.3|\n",
      "|    8|  6.433333333333334|              38.6|\n",
      "|    5| 3.2624999999999997|52.199999999999996|\n",
      "|    4|  3.429999999999999| 68.59999999999998|\n",
      "|    6|  3.952631578947368|              75.1|\n",
      "|   12| 5.0260869565217385|115.59999999999998|\n",
      "|    2| 3.1725000000000003|             126.9|\n",
      "|    3|  4.921621621621622|             182.1|\n",
      "|   10|              9.675|             193.5|\n",
      "|   11|               8.42|             210.5|\n",
      "|    1|  6.614285714285714|231.49999999999997|\n",
      "+-----+-------------------+------------------+\n",
      "\n"
     ]
    }
   ],
   "source": [
    "weather.filter(weather.weather == 'rain'\n",
    ").\\\n",
    "withColumn(\n",
    "    'month',\n",
    "    F.month(weather.date)\n",
    ").groupby('month').agg(\n",
    "    (F.mean('precipitation')).alias('mean_precip'),\n",
    "    (F.sum('precipitation')).alias('total_precip')\n",
    "    ).sort('total_precip').show()"
   ]
  },
  {
   "cell_type": "markdown",
   "id": "06cf4c0e-ca76-46de-817d-5c4b9678a9d9",
   "metadata": {},
   "source": [
    "- Which year was the windiest?"
   ]
  },
  {
   "cell_type": "code",
   "execution_count": 19,
   "id": "b541908c-41d5-4a67-a128-95b470d38e66",
   "metadata": {},
   "outputs": [
    {
     "data": {
      "text/plain": [
       "Row(year=2012, mean_wind=3.400819672131147, total_wind=1244.6999999999998)"
      ]
     },
     "execution_count": 19,
     "metadata": {},
     "output_type": "execute_result"
    }
   ],
   "source": [
    "weather.withColumn(\n",
    "    'year',\n",
    "    F.year(weather.date)\n",
    ").groupby(\n",
    "'year'\n",
    ").agg(\n",
    " (F.mean('wind')).alias('mean_wind'),\n",
    "    (F.sum('wind')).alias('total_wind')   \n",
    ").sort(F.col('total_wind').desc()).first()"
   ]
  },
  {
   "cell_type": "markdown",
   "id": "96130054-d1fc-46db-9361-924bbbfaba13",
   "metadata": {},
   "source": [
    "- What is the most frequent type of weather in January?"
   ]
  },
  {
   "cell_type": "code",
   "execution_count": 20,
   "id": "deee4058-f2c7-4cf4-b565-71888cb1dc99",
   "metadata": {},
   "outputs": [
    {
     "name": "stdout",
     "output_type": "stream",
     "text": [
      "+-------+-----+\n",
      "|weather|count|\n",
      "+-------+-----+\n",
      "|    fog|   38|\n",
      "|   rain|   35|\n",
      "|    sun|   33|\n",
      "|drizzle|   10|\n",
      "|   snow|    8|\n",
      "+-------+-----+\n",
      "\n"
     ]
    }
   ],
   "source": [
    "weather.filter(\n",
    "    F.month(weather.date) == 1\n",
    ").groupby('weather').count().sort(F.col('count').desc()).show()"
   ]
  },
  {
   "cell_type": "markdown",
   "id": "1dda59c3-0048-46a2-a721-819ddb19df6d",
   "metadata": {},
   "source": [
    "- What is the average high and low temperature on sunny days in July in 2013 and 2014?"
   ]
  },
  {
   "cell_type": "code",
   "execution_count": 16,
   "id": "2ee3e351-d0af-464c-ad15-928321707cd5",
   "metadata": {},
   "outputs": [
    {
     "name": "stdout",
     "output_type": "stream",
     "text": [
      "+--------+-------+\n",
      "|avg_high|avg_low|\n",
      "+--------+-------+\n",
      "|   80.29|  57.53|\n",
      "+--------+-------+\n",
      "\n"
     ]
    }
   ],
   "source": [
    "# steps ahead:\n",
    "# filter for: july (month)\n",
    "# year (2013, 2014)\n",
    "# weather: sunny\n",
    "# aggregate on high and low temp averages\n",
    "weather.filter(\n",
    "    (F.month(weather.date) == 7) &\n",
    "    (F.year(weather.date).isin(['2013','2014'])) &\n",
    "    (weather.weather == 'sun')\n",
    ").agg(\n",
    "    F.round(F.mean('temp_max'),2).alias('avg_high'), \n",
    "      F.round(F.mean('temp_min'), 2).alias('avg_low')\n",
    ").show()"
   ]
  },
  {
   "cell_type": "markdown",
   "id": "b870fe7c-cada-4774-8b7b-37b057885d95",
   "metadata": {},
   "source": [
    "- What percentage of days were rainy in q3 of 2015?"
   ]
  },
  {
   "cell_type": "code",
   "execution_count": 17,
   "id": "8d1119c0-ab5c-4e71-9221-7ab6f69e1055",
   "metadata": {},
   "outputs": [
    {
     "name": "stdout",
     "output_type": "stream",
     "text": [
      "+---------+\n",
      "|perc_rain|\n",
      "+---------+\n",
      "|     2.17|\n",
      "+---------+\n",
      "\n"
     ]
    }
   ],
   "source": [
    "# filter for q3:\n",
    "# filter for year\n",
    "# calculate percentage of rainy days\n",
    "weather.filter(\n",
    "    F.quarter(weather.date) == 3).filter(\n",
    "    F.year(weather.date) == 2015\n",
    ").select(\n",
    "    (F.when(weather.weather == 'rain', 1).otherwise(0)).alias('rain')\n",
    ").agg((F.round(F.mean('rain') * 100, 2)).alias('perc_rain')).show()"
   ]
  },
  {
   "cell_type": "markdown",
   "id": "b28d3230-bb22-4f6f-af23-b1d177813174",
   "metadata": {},
   "source": [
    "- For each year, find what percentage of days it rained (had non-zero precipitation)."
   ]
  },
  {
   "cell_type": "code",
   "execution_count": 18,
   "id": "d3101fd6-d6b9-45f5-b22f-d22d3d4f653f",
   "metadata": {},
   "outputs": [
    {
     "name": "stdout",
     "output_type": "stream",
     "text": [
      "+----+--------------+\n",
      "|year|percent_precip|\n",
      "+----+--------------+\n",
      "|2012|         48.36|\n",
      "|2013|         41.64|\n",
      "|2014|          41.1|\n",
      "|2015|         39.45|\n",
      "+----+--------------+\n",
      "\n"
     ]
    }
   ],
   "source": [
    "# nonzero precipitation\n",
    "weather.withColumn(\n",
    "    'year',\n",
    "    F.year(weather.date)).withColumn(\n",
    "    'has_rained',\n",
    "    F.expr('precipitation > 0').cast('int')\n",
    ").groupby('year').agg(\n",
    "    F.round(F.avg('has_rained') * 100, 2).alias('percent_precip')\n",
    ").show()\n",
    "    "
   ]
  }
 ],
 "metadata": {
  "kernelspec": {
   "display_name": "Python 3 (ipykernel)",
   "language": "python",
   "name": "python3"
  },
  "language_info": {
   "codemirror_mode": {
    "name": "ipython",
    "version": 3
   },
   "file_extension": ".py",
   "mimetype": "text/x-python",
   "name": "python",
   "nbconvert_exporter": "python",
   "pygments_lexer": "ipython3",
   "version": "3.9.13"
  }
 },
 "nbformat": 4,
 "nbformat_minor": 5
}
